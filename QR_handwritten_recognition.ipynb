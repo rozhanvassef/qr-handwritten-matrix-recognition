{
  "cells": [
    {
      "cell_type": "markdown",
      "metadata": {
        "id": "SIA-o930aBvc"
      },
      "source": [
        "<font face=\"B Mitra\" size=4>\n",
        "<div dir=rtl align=center>\n",
        "<br>\n",
        "<img src=\"https://aut.ac.ir/templates/tmpl_modern01/images/logo_fa.png\" alt=\"Amirkabir University Logo\" width=\"100\">\n",
        "<br>\n",
        "<font size=5> دانشگاه صنعتی امیرکبیر\n",
        "(پلی تکنیک تهران)\n",
        "<br>\n",
        "<font size=5> دانشکده ریاضی و علوم کامپیوتر\n",
        "<br>\n",
        "<font size=6>\n",
        "<b>پروژه ۲ درس مباحثی در ریاضیات و کاربردها</b>\n",
        "<br>\n",
        "<font size=6>\n",
        "<b>تشخیص دست نوشته با استفاده از تجزیه QR</b>\n",
        "<br>\n",
        "<font size=5> پیاده سازی: روژان واصف - محمدعرفان سلیمی\n",
        "<br>\n",
        "<font size=5> استاد درس:فاطمه شاکری\n",
        "<br>\n",
        "<font size=4> فروردین ۱۴۰۴\n",
        "<hr>\n",
        "</div>\n",
        "</font>"
      ]
    },
    {
      "cell_type": "markdown",
      "metadata": {
        "id": "EBmiYKGKaRU2"
      },
      "source": [
        "<div dir=rtl>\n",
        "<h2>\n",
        "<font face=\"B Nazanin\" color=\"#0099cc\">\n",
        "بارگذاری کتابخانه های مورد نیاز\n"
      ]
    },
    {
      "cell_type": "code",
      "execution_count": 1,
      "metadata": {
        "id": "ULU389hfaryW"
      },
      "outputs": [],
      "source": [
        "import torch\n",
        "import torchvision\n",
        "import numpy as np\n",
        "import matplotlib.pyplot as plt"
      ]
    },
    {
      "cell_type": "markdown",
      "metadata": {
        "id": "AC9YnlRxCoeo"
      },
      "source": [
        "<div dir=rtl>\n",
        "<h2>\n",
        "<font face=\"B Nazanin\" color=\"#0099cc\">\n",
        " بارگذاری مجموعه داده\n",
        "EMINIST"
      ]
    },
    {
      "cell_type": "code",
      "execution_count": 26,
      "metadata": {
        "id": "j9YJgzairMPp"
      },
      "outputs": [],
      "source": [
        "# Load the EMNIST Letters Dataset\n",
        "def load_emnist():\n",
        "    transform = torchvision.transforms.Compose([\n",
        "        torchvision.transforms.Grayscale(),  # Convert to grayscale\n",
        "        torchvision.transforms.ToTensor()  # Convert to PyTorch tensor\n",
        "    ])\n",
        "\n",
        "    # Load training and test datasets\n",
        "    train_dataset = torchvision.datasets.EMNIST(root=\"./data\", split=\"letters\", train=True, download=True, transform=transform)\n",
        "    test_dataset = torchvision.datasets.EMNIST(root=\"./data\", split=\"letters\", train=False, download=True, transform=transform)\n",
        "\n",
        "    return train_dataset, test_dataset\n",
        "\n",
        "train_dataset, test_dataset = load_emnist()\n",
        "\n",
        "# Convert to NumPy arrays\n",
        "X_train = np.array([train_dataset[i][0].numpy().flatten() for i in range(len(train_dataset))])\n",
        "y_train = np.array([train_dataset[i][1] for i in range(len(train_dataset))])\n",
        "\n",
        "X_test = np.array([test_dataset[i][0].numpy().flatten() for i in range(len(test_dataset))])\n",
        "y_test = np.array([test_dataset[i][1] for i in range(len(test_dataset))])\n",
        "\n",
        "# Normalize pixel values (0 to 1 range)\n",
        "X_train /= 255.0\n",
        "X_test /= 255.0\n",
        "\n",
        "# Adjust labels to start from 0 (because EMNIST labels go from 1 to 26)\n",
        "y_train -= 1\n",
        "y_test -= 1"
      ]
    },
    {
      "cell_type": "markdown",
      "metadata": {
        "id": "AB7bMP4osDWj"
      },
      "source": [
        "<div dir=rtl>\n",
        "<h2>\n",
        "<font face=\"B Nazanin\" color=\"#0099cc\">\n",
        "انتخاب ۲۰۰ نمونه به عنوان داده های آموزشی\n",
        "و\n",
        "۲۰ نمونه به عنوان داده های تست\n",
        "از هر کلاس"
      ]
    },
    {
      "cell_type": "code",
      "execution_count": 27,
      "metadata": {
        "id": "BTJFuNwnvNCC"
      },
      "outputs": [],
      "source": [
        "# Define samples per class\n",
        "num_train_samples = 200\n",
        "num_trainـadded_samples = 20\n",
        "num_test_samples = 20\n",
        "num_classes = 26  # a-z\n",
        "\n",
        "# Create training and testing matrices for each letter\n",
        "train_matrices = []\n",
        "train_added_matrices = []\n",
        "test_matrices = []\n",
        "\n",
        "for i in range(num_classes):\n",
        "    train_indices = np.where(y_train == i)[0][:num_train_samples]\n",
        "    train_added_indices = np.where(y_train == i)[0][num_train_samples: num_train_samples + num_trainـadded_samples]\n",
        "    test_indices = np.where(y_test == i)[0][:num_test_samples]\n",
        "\n",
        "    train_matrices.append(X_train[train_indices])\n",
        "    train_added_matrices.append(X_train[train_added_indices])\n",
        "    test_matrices.append(X_test[test_indices])\n",
        "\n",
        "# Convert lists to NumPy arrays\n",
        "train_matrices = np.array(train_matrices)\n",
        "test_matrices = np.array(test_matrices)\n",
        "train_added_matrices = np.array(train_added_matrices)"
      ]
    },
    {
      "cell_type": "markdown",
      "metadata": {
        "id": "HZZ9OpVYvQvM"
      },
      "source": [
        "<div dir=rtl>\n",
        "<h2>\n",
        "<font face=\"B Nazanin\" color=\"#0099cc\">\n",
        "محاسبه تجزیه QR ماتریس ها با استفاده از ماتریس های هاوس هولدر"
      ]
    },
    {
      "cell_type": "code",
      "source": [
        "def householder_matrix(a):\n",
        "    n = len(a)\n",
        "    denominator = a[0] + np.copysign(np.linalg.norm(a), a[0])\n",
        "    if denominator == 0:\n",
        "        return np.eye(n)\n",
        "    v = a / denominator\n",
        "    v[0] = 1\n",
        "    Q = np.eye(n) - (2 / (v @ v)) * (v[:, None] @ v[None, :])\n",
        "    return Q\n",
        "\n",
        "def qr_decomposition_householder(A):\n",
        "    m, n = A.shape\n",
        "    Q = np.eye(m)\n",
        "    R = A.copy()\n",
        "\n",
        "    for j in range(min(m - 1, n)):\n",
        "        a = R[j:, j]\n",
        "        Q_j = householder_matrix(a)\n",
        "        R[j:, j:] = Q_j @ R[j:, j:]\n",
        "        Q_temp = np.eye(m)\n",
        "        Q_temp[j:, j:] = Q_j\n",
        "        Q = Q @ Q_temp\n",
        "\n",
        "    return Q, R\n",
        "\n",
        "# Compute QR decompositions for each class (transpose needed)\n",
        "Q_matrices = []\n",
        "R_matrices = []\n",
        "\n",
        "for i in range(num_classes):\n",
        "    A = train_matrices[i].T\n",
        "    Q, R = qr_decomposition_householder(A)\n",
        "    Q_matrices.append(Q)\n",
        "    R_matrices.append(R)\n",
        "\n",
        "# Prediction function using reconstruction error\n",
        "def predict_class_1(y):\n",
        "    errors = []\n",
        "    for i in range(num_classes):\n",
        "        Q_i = Q_matrices[i]\n",
        "        R_i = R_matrices[i]\n",
        "\n",
        "        b_i = Q_i.T @ y\n",
        "        x_i = np.linalg.lstsq(R_i, b_i, rcond=None)[0]\n",
        "        y_hat_i = Q_i @ (R_i @ x_i)\n",
        "        error_i = np.linalg.norm(y - y_hat_i)\n",
        "        errors.append(error_i)\n",
        "\n",
        "    return np.argmin(errors)\n",
        "\n",
        "# Evaluate model on test data\n",
        "correct = 0\n",
        "total_samples = 0\n",
        "\n",
        "for i in range(num_classes):\n",
        "    for j in range(num_test_samples):\n",
        "        y_test = test_matrices[i][j].reshape(-1, 1)\n",
        "        predicted = predict_class_1(y_test)\n",
        "\n",
        "        if predicted == i:\n",
        "            correct += 1\n",
        "        total_samples += 1\n",
        "\n",
        "accuracy = (correct / total_samples) * 100\n",
        "print(f\"Accuracy: {accuracy:.2f}%\")\n"
      ],
      "metadata": {
        "colab": {
          "base_uri": "https://localhost:8080/"
        },
        "id": "pSXsnFkEuwJ-",
        "outputId": "b2af592b-40b5-4103-b092-b88e877461ce"
      },
      "execution_count": 28,
      "outputs": [
        {
          "output_type": "stream",
          "name": "stdout",
          "text": [
            "Accuracy: 70.58%\n"
          ]
        }
      ]
    },
    {
      "cell_type": "markdown",
      "metadata": {
        "id": "vePISFcQwT8S"
      },
      "source": [
        "<div dir=rtl>\n",
        "<h2>\n",
        "<font face=\"B Nazanin\" color=\"#0099cc\">\n",
        "محاسبه تجزیه QR ماتریس ها با استفاده از ماتریس های گیونز"
      ]
    },
    {
      "cell_type": "code",
      "source": [
        "def givens_rotation(a, b):\n",
        "    if b != 0:\n",
        "        denom = np.hypot(a, b)\n",
        "        c = a / denom\n",
        "        s = -b / denom\n",
        "    else:\n",
        "        c = 1.0\n",
        "        s = 0.0\n",
        "    return c, s\n",
        "\n",
        "def update_qr_givens(Q, R, new_column):\n",
        "    m, n = R.shape\n",
        "    new_R = np.hstack([R, new_column.reshape(-1, 1)])\n",
        "    new_Q = Q.copy()\n",
        "\n",
        "    for i in range(m - 1):\n",
        "        c, s = givens_rotation(new_R[i, -1], new_R[i+1, -1])\n",
        "        G = np.array([[c, -s], [s, c]])\n",
        "\n",
        "        new_R[[i, i+1], :] = G @ new_R[[i, i+1], :]\n",
        "        new_Q[:, [i, i+1]] = new_Q[:, [i, i+1]] @ G.T\n",
        "\n",
        "    return new_Q, new_R\n",
        "\n",
        "for i in range(num_classes):\n",
        "    new_data = train_added_matrices[i].T\n",
        "\n",
        "    for j in range(20):\n",
        "        new_col = new_data[:, j]\n",
        "\n",
        "        Q_matrices[i], R_matrices[i] = update_qr_givens(Q_matrices[i], R_matrices[i], new_col)\n",
        "\n",
        "# Prediction\n",
        "def predict_class_2(y):\n",
        "    errors = []\n",
        "    for i in range(num_classes):\n",
        "        Q_i = Q_matrices[i]\n",
        "        R_i = R_matrices[i]\n",
        "        b_i = Q_i.T @ y\n",
        "        x_i = np.linalg.lstsq(R_i, b_i, rcond=None)[0]\n",
        "        y_hat_i = Q_i @ (R_i @ x_i)\n",
        "        error_i = np.linalg.norm(y - y_hat_i)\n",
        "        errors.append(error_i)\n",
        "    return np.argmin(errors)\n",
        "\n",
        "# Accuracy test\n",
        "correct = 0\n",
        "total_samples = 0\n",
        "\n",
        "for i in range(num_classes):\n",
        "    for j in range(20):\n",
        "        y_test = test_matrices[i][j].reshape(-1, 1)\n",
        "        predicted_class = predict_class_2(y_test)\n",
        "        if predicted_class == i:\n",
        "            correct += 1\n",
        "        total_samples += 1\n",
        "\n",
        "accuracy = (correct / total_samples) * 100\n",
        "print(f\"Accuracy: {accuracy:.2f}%\")\n"
      ],
      "metadata": {
        "colab": {
          "base_uri": "https://localhost:8080/"
        },
        "id": "DZ76Ufjc1gDL",
        "outputId": "3963823f-2612-4e69-a7f5-9ffc5d0808c4"
      },
      "execution_count": 29,
      "outputs": [
        {
          "output_type": "stream",
          "name": "stdout",
          "text": [
            "Accuracy: 70.19%\n"
          ]
        }
      ]
    }
  ],
  "metadata": {
    "colab": {
      "provenance": []
    },
    "kernelspec": {
      "display_name": "Python 3",
      "name": "python3"
    },
    "language_info": {
      "name": "python"
    }
  },
  "nbformat": 4,
  "nbformat_minor": 0
}